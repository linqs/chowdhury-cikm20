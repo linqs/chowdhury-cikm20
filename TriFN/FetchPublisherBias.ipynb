{
 "cells": [
  {
   "cell_type": "code",
   "execution_count": 22,
   "metadata": {},
   "outputs": [],
   "source": [
    "import requests\n",
    "import re\n",
    "import numpy as np"
   ]
  },
  {
   "cell_type": "code",
   "execution_count": 2,
   "metadata": {
    "collapsed": true
   },
   "outputs": [],
   "source": [
    "urlp = re.compile('http.*?\"')\n",
    "p = re.compile('alt=.*?\".*?\"')"
   ]
  },
  {
   "cell_type": "code",
   "execution_count": 18,
   "metadata": {
    "collapsed": true
   },
   "outputs": [],
   "source": [
    "poss_bias_vals = {\"extreme left bias\" : -3, \n",
    "                 \"left bias\" : -2, \n",
    "                 \"left biased\" : -2, \n",
    "                 \"left center bias\" : -1, \n",
    "                 \"left center\" : -1, \n",
    "                 \"least biased\" : 0, \n",
    "                 \"right center\" : 1, \n",
    "                 \"right center bias\" : 1, \n",
    "                 \"right bias\" : 2, \n",
    "                 \"right biased\" : 2, \n",
    "                 \"questionable\" : 3, \n",
    "                 \"extreme right bias\" : 3, \n",
    "                 \"right bias -fake news\" : 3, \n",
    "                 \"extreme right bias, fake news\" : 3, \n",
    "                 \"questionable source\" : 3}\n"
   ]
  },
  {
   "cell_type": "code",
   "execution_count": 15,
   "metadata": {
    "collapsed": true
   },
   "outputs": [],
   "source": [
    "cred_vals = {\"satire\" : 0, \n",
    "             \"credible\" : 4, \n",
    "             \"mostly credible and reliable\" : 3, \n",
    "             \"not always credible\" : 2, \n",
    "             \"not credible\" : 0, \n",
    "             \"not always credible or reliable\" : 2, \n",
    "             \"biased\" : 0, \n",
    "             \"low factual reporting\" : 1, \n",
    "             \"fake news\" : 0, \n",
    "             \"pseudoscience\" : 0}\n"
   ]
  },
  {
   "cell_type": "code",
   "execution_count": 13,
   "metadata": {},
   "outputs": [
    {
     "name": "stdout",
     "output_type": "stream",
     "text": [
      "http://100percentfedup.com : Bias : extreme right bias\n",
      "http://100percentfedup.com : Cred : not credible\n",
      "http://allenwestrepublic.com : Bias : extreme right bias\n",
      "http://allenwestrepublic.com : Cred : not credible\n",
      "http://alternativemediasyndicate.com : Bias : extreme left bias\n",
      "http://alternativemediasyndicate.com : Cred : not always credible or reliable\n",
      "http://bestthings.us : Cred : biased\n",
      "http://breakingtop.world : Bias : extreme right bias, fake news\n",
      "http://breakingtop.world : Cred : biased\n",
      "http://clashdaily.com : Cred : fake news\n",
      "http://clashdaily.com : Bias : right bias\n",
      "http://cnn.it : Bias : left biased\n",
      "http://cnn.it : Cred : mostly credible and reliable\n",
      "http://conservativearmy88.com : Cred : fake news\n",
      "http://conservativearmy88.com : Bias : right bias\n",
      "http://conservativebyte.com : Cred : fake news\n",
      "http://conservativetribune.com : Bias : questionable\n",
      "http://conservativetribune.com : Cred : biased\n",
      "http://dailysnark.com : Cred : satire\n",
      "http://dailythings.world : Cred : not always credible\n",
      "http://dailythings.world : Bias : right bias\n",
      "http://donaldtrumppotus45.com : Cred : fake news\n",
      "http://donaldtrumppotus45.com : Bias : right bias\n",
      "http://eaglerising.com : Cred : fake news\n",
      "http://eaglerising.com : Bias : right bias\n",
      "http://fb.me : Cred : fake news\n",
      "http://fb.me : Bias : questionable\n",
      "http://ilovenativeamericans.us : Cred : not always credible\n",
      "http://ladylibertysnews.com : Bias : right bias\n",
      "http://londonwebnews.com : Bias : left bias\n",
      "http://nativestuff.us : Cred : biased\n",
      "http://newsfeedhunter.com : Cred : fake news\n",
      "http://newsfeedhunter.com : Bias : extreme right bias\n",
      "http://now8news.com : Cred : satire\n",
      "http://patriotcrier.com : Bias : questionable source\n",
      "http://politi.co : Bias : least biased\n",
      "http://politi.co : Cred : credible\n",
      "http://proudleader.com : Bias : right bias\n",
      "http://realnewsrightnow.com : Cred : satire\n",
      "http://rightwingnews.com : Bias : right bias\n",
      "https://goo.gl : Cred : credible\n",
      "https://goo.gl : Bias : left center bias\n",
      "https://halfwaypost.com : Cred : satire\n",
      "https://ihavethetruth.com : Bias : right bias\n",
      "http://spinzon.com : Bias : right bias\n",
      "https://politicalmayhem.news : Bias : right bias\n",
      "https://teddystick.com : Bias : questionable source\n",
      "http://stgeorgegazette.com : Cred : satire\n",
      "https://theredshtick.com : Cred : satire\n",
      "https://uspoliticsinfo.com : Cred : not always credible\n",
      "https://uspoliticsinfo.com : Bias : right bias\n",
      "https://world-politicus.com : Cred : not always credible\n",
      "https://world-politicus.com : Bias : left bias\n",
      "https://federalisttribune.com : Cred : not always credible\n",
      "https://tdtalliance.com : Bias : right bias\n",
      "https://washingtonpost.com : Bias : left center bias\n",
      "https://washingtonpost.com : Cred : credible\n",
      "http://thelastlineofdefense.org : Cred : satire\n",
      "http://thenewyorkevening.com : Bias : questionable source\n",
      "http://undergroundnewsreport.com : Cred : satire\n",
      "http://universepolitics.com : Bias : right bias -fake news\n",
      "http://usadailytime.com : Bias : right bias\n",
      "http://usherald.com : Cred : fake news\n",
      "http://usherald.com : Bias : right bias\n",
      "http://uspoln.com : Cred : satire\n",
      "http://uspostman.com : Bias : right bias\n",
      "http://viraldevil.com : Cred : satire\n",
      "http://walkwithher.com : Bias : left bias\n",
      "http://weconservative.com : Bias : right bias\n",
      "http://winningdemocrats.com : Bias : left bias\n",
      "http://cnn.com : Bias : left biased\n",
      "http://cnn.com : Cred : mostly credible and reliable\n",
      "http://empiresports.co : Cred : satire\n",
      "http://floridasunpost.com : Cred : biased\n",
      "http://ifyouonlynews.com : Bias : left bias\n",
      "http://learnprogress.org : Bias : left center\n",
      "http://neonnettle.com : alt=\"Neon Nettle - Conspiracy - Fake News - Biased - Not Credible\"\n",
      "http://neonnettle.com : Cred : pseudoscience\n",
      "http://opposingviews.com : Cred : not always credible\n",
      "http://opposingviews.com : Bias : left center bias\n",
      "http://proudcons.com : Bias : right bias\n",
      "http://thepoliticalinsider.com : Cred : not always credible\n",
      "http://thepoliticalinsider.com : Bias : questionable\n",
      "http://theverge.com : Bias : left center bias\n",
      "http://theverge.com : Cred : credible\n",
      "http://usafirstinformation.com : Bias : right bias\n",
      "http://yesimright.com : Bias : right bias\n"
     ]
    }
   ],
   "source": [
    "url='https://mediabiasfactcheck.com/?s='\n",
    "all_vals = {}\n",
    "with open(\"./all_uniq_pub.txt\") as f:\n",
    "    for line in f:\n",
    "        line = line.strip()\n",
    "        try:\n",
    "            r = requests.get(url + line)\n",
    "        except:\n",
    "            continue\n",
    "        for j in r.iter_lines():\n",
    "            if str(j).find(\"loop-title\") != -1:\n",
    "                u = j\n",
    "                all_vals[line] = {\"Cred\" : \"\", \"Bias\" : \"\"}\n",
    "                furl = urlp.findall(str(u))[0][:-1]\n",
    "                fu = requests.get(furl)\n",
    "                n = p.findall(str(fu.content))[:2]\n",
    "                if (len(n) > 0 and len(n[0].split(' -')) >= 2) :\n",
    "                    b_val = n[0].split(' - ')[1].replace('\"', \"\").lower()\n",
    "                    b_val = b_val.strip()\n",
    "                    if (b_val in poss_bias_vals) :\n",
    "                        all_vals[line][\"Bias\"] = b_val\n",
    "                        print(\"{} : Bias : {}\".format(line, b_val))\n",
    "                    elif (b_val in cred_vals):\n",
    "                        all_vals[line][\"Cred\"] = b_val\n",
    "                        print(\"{} : Cred : {}\".format(line, b_val))\n",
    "                    else:\n",
    "                        print(\"{} : {}\".format(line, n[0]))\n",
    "                if (len(n) == 2 and len(n[1].split(' - ')) >= 2):\n",
    "                    b_val = n[1].split(' - ')[1].replace('\"', \"\").lower()\n",
    "                    b_val = b_val.strip()\n",
    "                    if (b_val in poss_bias_vals) :\n",
    "                        all_vals[line][\"Bias\"] = b_val\n",
    "                        print(\"{} : Bias : {}\".format(line, b_val))\n",
    "                    elif (b_val in cred_vals):\n",
    "                        all_vals[line][\"Cred\"] = b_val\n",
    "                        print(\"{} : Cred : {}\".format(line, b_val))\n",
    "                    else:\n",
    "                        print(\"{} : {}\".format(line, n[1]))\n",
    "                break"
   ]
  },
  {
   "cell_type": "code",
   "execution_count": 24,
   "metadata": {},
   "outputs": [],
   "source": [
    "with open(\"./pub_right.txt\", \"w\") as r, open(\"./pub_left.txt\", \"w\") as l, open(\"./pub_neutral.txt\", \"w\") as n:\n",
    "    for i in all_vals:\n",
    "        if all_vals[i][\"Bias\"] in poss_bias_vals:\n",
    "            pv = poss_bias_vals[all_vals[i][\"Bias\"]]\n",
    "            if (pv > 0):\n",
    "                r.write(i + \"\\t\" + str(pv/3.0) + \"\\n\")\n",
    "            if (pv < 0):\n",
    "                l.write(i + \"\\t\" + str(-1*pv/3.0) + \"\\n\")\n",
    "            n.write(i + \"\\t\" + str((3-np.abs(pv))/3.0) + \"\\n\")"
   ]
  },
  {
   "cell_type": "code",
   "execution_count": 27,
   "metadata": {},
   "outputs": [],
   "source": [
    "with open(\"./pub_cred.txt\", \"w\") as c:\n",
    "    for i in all_vals:\n",
    "        if all_vals[i][\"Cred\"] in cred_vals:\n",
    "            pv = cred_vals[all_vals[i][\"Cred\"]]\n",
    "            c.write(i + \"\\t\" + str((np.abs(pv))/4.0) + \"\\n\")"
   ]
  },
  {
   "cell_type": "code",
   "execution_count": null,
   "metadata": {
    "collapsed": true
   },
   "outputs": [],
   "source": []
  }
 ],
 "metadata": {
  "kernelspec": {
   "display_name": "Python 3",
   "language": "python",
   "name": "python3"
  },
  "language_info": {
   "codemirror_mode": {
    "name": "ipython",
    "version": 3
   },
   "file_extension": ".py",
   "mimetype": "text/x-python",
   "name": "python",
   "nbconvert_exporter": "python",
   "pygments_lexer": "ipython3",
   "version": "3.6.1"
  }
 },
 "nbformat": 4,
 "nbformat_minor": 2
}
